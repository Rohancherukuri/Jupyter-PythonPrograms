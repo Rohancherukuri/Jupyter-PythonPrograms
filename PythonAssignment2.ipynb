{
 "cells": [
  {
   "cell_type": "markdown",
   "metadata": {},
   "source": [
    "# Assignment 2"
   ]
  },
  {
   "cell_type": "markdown",
   "metadata": {},
   "source": [
    "## Task 1"
   ]
  },
  {
   "cell_type": "code",
   "execution_count": 119,
   "metadata": {},
   "outputs": [],
   "source": [
    "# 1.1) Building my own reduce function in python\n",
    "def fact(a,b):\n",
    "    return a*b\n",
    "def myreduce(func,l1):\n",
    "    first=l1[0]\n",
    "    for i in l1[1:]:\n",
    "        first=func(first,i)\n",
    "    return first\n",
    "        "
   ]
  },
  {
   "cell_type": "code",
   "execution_count": 120,
   "metadata": {},
   "outputs": [
    {
     "data": {
      "text/plain": [
       "120"
      ]
     },
     "execution_count": 120,
     "metadata": {},
     "output_type": "execute_result"
    }
   ],
   "source": [
    "myreduce(fact,[1,2,3,4,5])"
   ]
  },
  {
   "cell_type": "code",
   "execution_count": 123,
   "metadata": {},
   "outputs": [],
   "source": [
    "# 1.2) Building my own filter functon in python\n",
    "def is_even(n):\n",
    "    if n%2==0:\n",
    "        return True\n",
    "    else:\n",
    "        return False\n",
    "def myfilter(func,l2):\n",
    "    l2=[1,2,3,4,5,6,7,8,9,10]\n",
    "    return [i for i in l2 if func(i)]"
   ]
  },
  {
   "cell_type": "code",
   "execution_count": 124,
   "metadata": {},
   "outputs": [
    {
     "data": {
      "text/plain": [
       "[2, 4, 6, 8, 10]"
      ]
     },
     "execution_count": 124,
     "metadata": {},
     "output_type": "execute_result"
    }
   ],
   "source": [
    "\n",
    "myfilter(is_even,l)"
   ]
  },
  {
   "cell_type": "code",
   "execution_count": 51,
   "metadata": {},
   "outputs": [
    {
     "name": "stdout",
     "output_type": "stream",
     "text": [
      "['A', 'C', 'A', 'D', 'G', 'I', 'L', 'D']\n"
     ]
    }
   ],
   "source": [
    "# 2) Implementing list comprehensions\n",
    "# a)\n",
    "word = \"ACADGILD\"\n",
    "w = [ character for character in word ]\n",
    "print (str(w))\n"
   ]
  },
  {
   "cell_type": "code",
   "execution_count": 62,
   "metadata": {},
   "outputs": [
    {
     "name": "stdout",
     "output_type": "stream",
     "text": [
      "['x', 'xx', 'xxx', 'xxxx', 'y', 'yy', 'yyy', 'yyyy', 'z', 'zz', 'zzz', 'zzzz']\n"
     ]
    }
   ],
   "source": [
    "# b)\n",
    "char='xyz'\n",
    "l1 =[c for c in char]\n",
    "l2=[c*2 for c in char]\n",
    "l3=[c*3 for c in char]\n",
    "l4 = [c*4 for c in char]\n",
    "l5=l1+l2+l3+l4\n",
    "l5.sort()\n",
    "print(l5)\n",
    "\n",
    "\n"
   ]
  },
  {
   "cell_type": "code",
   "execution_count": 61,
   "metadata": {},
   "outputs": [
    {
     "name": "stdout",
     "output_type": "stream",
     "text": [
      "['x', 'y', 'z', 'xx', 'yy', 'zz', 'xx', 'yy', 'zz', 'xxxx', 'yyyy', 'zzzz']\n"
     ]
    }
   ],
   "source": [
    "# c)\n",
    "text='xyz'\n",
    "t1 =[c for c in text]\n",
    "t2=[c*2 for c in text]\n",
    "t3=[c*2 for c in text]\n",
    "t4 = [c*4 for c in text]\n",
    "t5=t1+t2+t3+t4\n",
    "print(t5)"
   ]
  },
  {
   "cell_type": "code",
   "execution_count": 5,
   "metadata": {},
   "outputs": [
    {
     "name": "stdout",
     "output_type": "stream",
     "text": [
      "[[2], [3], [3], [4], [4], [5], [5], [6]]\n"
     ]
    }
   ],
   "source": [
    "# d)\n",
    "number1=[2,3,4,5]\n",
    "n1=[[c+i] for c in number1 for i in range(0,2)]\n",
    "print(n1)"
   ]
  },
  {
   "cell_type": "code",
   "execution_count": 7,
   "metadata": {},
   "outputs": [
    {
     "name": "stdout",
     "output_type": "stream",
     "text": [
      "[[2, 3, 4, 5], [3, 4, 5, 6], [4, 5, 6, 7], [5, 6, 7, 8]]\n"
     ]
    }
   ],
   "source": [
    "# e)\n",
    "number2=[2,3,4,5]\n",
    "n2=[[c+i for c in number2] for i in range(0,4)]\n",
    "print(n2)"
   ]
  },
  {
   "cell_type": "code",
   "execution_count": 13,
   "metadata": {},
   "outputs": [
    {
     "name": "stdout",
     "output_type": "stream",
     "text": [
      "[(1, 1), (2, 1), (3, 1), (1, 2), (2, 2), (3, 2), (1, 3), (2, 3), (3, 3)]\n"
     ]
    }
   ],
   "source": [
    "# f)\n",
    "number3=[1,2,3]\n",
    "n3=[(b,a) for a in number3 for b in range(1,4)]\n",
    "print(n3)"
   ]
  },
  {
   "cell_type": "code",
   "execution_count": 9,
   "metadata": {},
   "outputs": [],
   "source": [
    "# 3) Implementing longestword() where it takes a list of two words and retuns longest one\n",
    "def longestword(l):\n",
    "    for i in l:\n",
    "        print(max(l))\n",
    "        break"
   ]
  },
  {
   "cell_type": "code",
   "execution_count": 10,
   "metadata": {},
   "outputs": [
    {
     "name": "stdout",
     "output_type": "stream",
     "text": [
      "Uneendhra\n"
     ]
    }
   ],
   "source": [
    "longestword([\"Rohan\",\"Naveen\",\"Uneendhra\"])"
   ]
  },
  {
   "cell_type": "markdown",
   "metadata": {},
   "source": [
    "## Task2"
   ]
  },
  {
   "cell_type": "code",
   "execution_count": 32,
   "metadata": {},
   "outputs": [
    {
     "name": "stdout",
     "output_type": "stream",
     "text": [
      "Enter first side: 200\n",
      "Enter second side: 160\n",
      "Enter third side: 220\n",
      "The area of triangle is:  15411.359446849587\n"
     ]
    }
   ],
   "source": [
    "# 1.1) Python program to (with class concepts) to find the area of the triangle\n",
    "class Shape:\n",
    "    def __init__(self,a,b,c):\n",
    "        self.a=a\n",
    "        self.b=b\n",
    "        self.c=c\n",
    "class Triangle(Shape):\n",
    "    def area(self):\n",
    "        self.s=(self.a+self.b+self.c)/2\n",
    "        return (self.s*(self.s-self.a)*(self.s-self.b)*(self.s-self.c)) ** 0.5\n",
    "s1=int(input(\"Enter first side: \"))\n",
    "s2=int(input(\"Enter second side: \"))\n",
    "s3=int(input(\"Enter third side: \"))\n",
    "t=Triangle(s1,s2,s3)\n",
    "print(\"The area of triangle is: \",t.area()) "
   ]
  },
  {
   "cell_type": "code",
   "execution_count": 78,
   "metadata": {},
   "outputs": [],
   "source": [
    "# 1.2) Creating a function filter_long_words() which retuns the list of longest words greater than n from a list of words\n",
    "def filter_long_words(l,n):\n",
    "    m=[]\n",
    "    for i in l:\n",
    "        if len(i)>n:\n",
    "            m.append(i)\n",
    "    print(m)\n",
    "    "
   ]
  },
  {
   "cell_type": "code",
   "execution_count": 80,
   "metadata": {},
   "outputs": [
    {
     "name": "stdout",
     "output_type": "stream",
     "text": [
      "['Naveen', 'Uneendhra', 'LeelaKrishna']\n"
     ]
    }
   ],
   "source": [
    "filter_long_words([\"Rohan\",\"Naveen\",\"Uneendhra\",\"Gana\",\"LeelaKrishna\"],5)"
   ]
  },
  {
   "cell_type": "code",
   "execution_count": 88,
   "metadata": {},
   "outputs": [],
   "source": [
    "# 2.1) Mapping list of words into list of integers representing the length of the words\n",
    "def length_of_word(l):\n",
    "    n=map(lambda x:len(x),l)\n",
    "    print(list(n))"
   ]
  },
  {
   "cell_type": "code",
   "execution_count": 89,
   "metadata": {},
   "outputs": [
    {
     "name": "stdout",
     "output_type": "stream",
     "text": [
      "[2, 3, 4]\n"
     ]
    }
   ],
   "source": [
    "length_of_word(['ab','cde','erty'])"
   ]
  },
  {
   "cell_type": "code",
   "execution_count": 124,
   "metadata": {},
   "outputs": [],
   "source": [
    "# 2.2) Creating a function which takes character and return true if it is vowel and vice versa\n",
    "def is_vowel(c):\n",
    "    if(c=='A' or c=='a' or c=='E' or c =='e' or c=='I'or c=='i' or c=='O' or c=='o' or c=='U' or c=='u'):\n",
    "        return True\n",
    "    else:\n",
    "        return False"
   ]
  },
  {
   "cell_type": "code",
   "execution_count": 130,
   "metadata": {},
   "outputs": [
    {
     "data": {
      "text/plain": [
       "True"
      ]
     },
     "execution_count": 130,
     "metadata": {},
     "output_type": "execute_result"
    }
   ],
   "source": [
    "is_vowel('e')"
   ]
  },
  {
   "cell_type": "code",
   "execution_count": 131,
   "metadata": {},
   "outputs": [
    {
     "data": {
      "text/plain": [
       "False"
      ]
     },
     "execution_count": 131,
     "metadata": {},
     "output_type": "execute_result"
    }
   ],
   "source": [
    "is_vowel('s')"
   ]
  }
 ],
 "metadata": {
  "kernelspec": {
   "display_name": "Python 3",
   "language": "python",
   "name": "python3"
  },
  "language_info": {
   "codemirror_mode": {
    "name": "ipython",
    "version": 3
   },
   "file_extension": ".py",
   "mimetype": "text/x-python",
   "name": "python",
   "nbconvert_exporter": "python",
   "pygments_lexer": "ipython3",
   "version": "3.8.2"
  }
 },
 "nbformat": 4,
 "nbformat_minor": 4
}
